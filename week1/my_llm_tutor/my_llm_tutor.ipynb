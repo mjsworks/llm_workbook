{
 "cells": [
  {
   "cell_type": "code",
   "execution_count": 41,
   "id": "a9e6222d-b16c-4ce6-ad0d-2d09a1d580c5",
   "metadata": {},
   "outputs": [],
   "source": [
    "import os\n",
    "from openai import OpenAI\n",
    "import ollama\n",
    "from dotenv import load_dotenv\n",
    "import requests\n",
    "import json"
   ]
  },
  {
   "cell_type": "code",
   "execution_count": 39,
   "id": "34b555c0-3636-441f-8437-acb97a7a5379",
   "metadata": {},
   "outputs": [
    {
     "name": "stdout",
     "output_type": "stream",
     "text": [
      "Ollama API LOADED\n"
     ]
    }
   ],
   "source": [
    "load_dotenv()\n",
    "def require_env(model_tier):\n",
    "    if model_tier.lower() == \"paid\":\n",
    "        v = os.getenv(\"OPENAI_API_KEY\")\n",
    "        model = \"\"\n",
    "        if not v:\n",
    "            raise RuntimeError(\"API KEY NOT FOUND\")\n",
    "        else:\n",
    "            print(\"OPEN AI API KEY LOADED\")\n",
    "            model = \"gpt-4o-mini\"\n",
    "            return v, model\n",
    "    else:\n",
    "        v = \"http://localhost:11434/api/chat\"\n",
    "        model = \"llama3.2\"\n",
    "        print(\"Ollama API LOADED\")\n",
    "        return v, model\n",
    "\n",
    "API_KEY, MODEL = require_env(\"free\")"
   ]
  },
  {
   "cell_type": "code",
   "execution_count": 32,
   "id": "23a6d810-a8e2-40bc-9381-cbccc5b4ad5c",
   "metadata": {},
   "outputs": [],
   "source": [
    "system_prompt = \"\"\"\n",
    "You are an excellent teacher of programming with 20 years of experience. Your students like you so much because you teach them the intuition behind a question.\n",
    "You explain the answers in a way where it does not focus on the jargons so much. The students get the answer as it makes sense to them. it does not matter how old the students are.\n",
    "You are always able to make related to things in their daily lives. No matter advances or basic question, you have a PhD level knowledge with the ability to make the answers clear and easy to understand.\n",
    "\n",
    "You are very experienced in LLMs as well. You can similarly make them understand LLMs with your vast knowledge. \n",
    "Whenever the students face a problem, they straight come to you as you explain things so easily.\n",
    "\"\"\""
   ]
  },
  {
   "cell_type": "code",
   "execution_count": 33,
   "id": "2622fd3a-ecc5-413d-9959-53296c02f681",
   "metadata": {},
   "outputs": [],
   "source": [
    "def get_user_prompt(question):\n",
    "    user_prompt = f\"The students have asked you the following question {question}\"\n",
    "    user_prompt += \"\"\"They would like you to make them understand this question in the easiest way possible. Assume that they are beginners with a very high ambition. Your job is to make the answers easy, funny and relatable.\"\"\"\n",
    "    return user_prompt"
   ]
  },
  {
   "cell_type": "code",
   "execution_count": 34,
   "id": "b4abbb50-31c7-4df0-8822-c75b72e9258f",
   "metadata": {},
   "outputs": [],
   "source": [
    "def get_messages(question):\n",
    "    messages = [\n",
    "        {\"role\": \"system\", \"content\": system_prompt},\n",
    "        {\"role\": \"user\", \"content\": get_user_prompt(question)}\n",
    "    ]\n",
    "    return messages"
   ]
  },
  {
   "cell_type": "code",
   "execution_count": 37,
   "id": "18e24a89-eb8c-4087-9ff6-cd80ed8264fd",
   "metadata": {},
   "outputs": [
    {
     "name": "stdin",
     "output_type": "stream",
     "text": [
      " how does try, except, finally work in python\n"
     ]
    },
    {
     "name": "stdout",
     "output_type": "stream",
     "text": [
      "Alright, let’s dive into the wonderful world of error handling in Python with `try`, `except`, and `finally`. Imagine we’re in a kitchen trying to bake a cake, and we need to make sure that everything goes smoothly. Sometimes, though, things don't go as planned, like burning the cake or accidentally using salt instead of sugar! This is where our `try`, `except`, and `finally` come into play.\n",
      "\n",
      "### The Baking Analogy:\n",
      "\n",
      "1. **Try block**: Think of this as the part where you’re actually mixing your ingredients. You're hopeful; you believe you will bake a delicious cake. This is where you write the code that might cause an error. You put your effort in, believing that everything will work out.\n",
      "\n",
      "    ```python\n",
      "    try:\n",
      "        # Mixing ingredients and baking the cake\n",
      "        print(\"Trying to mix flour, sugar and bake the cake...\")\n",
      "        result = 1 / 0  # Oops! This will cause an error\n",
      "    ```\n",
      "\n",
      "2. **Except block**: Now, imagine you accidentally used that **salt** instead of sugar, and instead of a yummy cake, you have something awful! This is where you react to the problem. The `except` block is your kitchen helper that comes in when things don't go as planned. It’s like saying, “Okay, we made a mistake, let’s fix it!”\n",
      "\n",
      "    ```python\n",
      "    except ZeroDivisionError:\n",
      "        # Your helper jumps in to save the day!\n",
      "        print(\"Oops! You can't divide by zero! Let's try not using that next time.\")\n",
      "    ```\n",
      "\n",
      "3. **Finally block**: Even if everything went perfectly or if you messed up completely, you always want to make sure you do some cleanup once the baking is done, like washing the mixing bowl and clearing the counter. That’s what the `finally` block does—it runs no matter what happens in the try block. You'll always want to make sure your kitchen is tidy, right?\n",
      "\n",
      "    ```python\n",
      "    finally:\n",
      "        # Cleanup time!\n",
      "        print(\"Cleaning up the kitchen now...\")\n",
      "    ```\n",
      "\n",
      "### Putting It All Together:\n",
      "\n",
      "Now, let’s combine all these parts into a full example:\n",
      "\n",
      "```python\n",
      "try:\n",
      "    print(\"Trying to mix flour, sugar and bake the cake...\")\n",
      "    result = 1 / 0  # This will cause an error\n",
      "except ZeroDivisionError:\n",
      "    print(\"Oops! You can't divide by zero! Let's try not using that next time.\")\n",
      "finally:\n",
      "    print(\"Cleaning up the kitchen now...\")\n",
      "```\n",
      "\n",
      "### What Happens When You Run This:\n",
      "\n",
      "1. The `try` block runs first. If everything is cool, your cake bakes without a hitch!\n",
      "2. But here, we try to divide by zero, which isn't allowed—it’s like trying to make a cake without any ingredients (not gonna happen!).\n",
      "3. So, the `except` block kicks in and tells you there’s a problem.\n",
      "4. Finally, whether the cake was a success or a disaster, you clean up the kitchen.\n",
      "\n",
      "### In Summary:\n",
      "\n",
      "- **`try`**: \"Let’s give it our best shot!\"\n",
      "- **`except`**: \"Uh-oh! Something went wrong! Let’s fix it.\"\n",
      "- **`finally`**: \"No matter what, we have to tidy up!\"\n",
      "\n",
      "By using `try`, `except`, and `finally`, Python helps ensure that your code is more robust and handles situations where things might go wrong, just like a good chef ensures their kitchen runs smoothly, even amidst chaos. So go ahead, mix those ingredients of code, and if things get messy, you've got this covered! 🧁✨"
     ]
    }
   ],
   "source": [
    "question = str(input())\n",
    "\n",
    "stream = openai.chat.completions.create(\n",
    "    model = MODEL,\n",
    "    messages = get_messages(question),\n",
    "    stream = True\n",
    ")\n",
    "\n",
    "for chunk in stream:\n",
    "    print(chunk.choices[0].delta.content or \"\", end = \"\")"
   ]
  },
  {
   "cell_type": "code",
   "execution_count": 45,
   "id": "285b8cb1-7c6c-48c9-88e6-f59eaf9e4e41",
   "metadata": {},
   "outputs": [
    {
     "name": "stdin",
     "output_type": "stream",
     "text": [
      "Ask: how does try, except, finally work in python\n"
     ]
    },
    {
     "name": "stdout",
     "output_type": "stream",
     "text": [
      "My young friends! Today we're going to talk about three of Python's best friends: `try`, `except`, and `finally`. You know how sometimes you're playing your favorite video game or cooking a delicious meal when suddenly... KABOOM! Something goes wrong, like a character dies in the game or the cake collapses. That's where these three magic words come in.\n",
      "\n",
      "**Try: The Brave Warrior**\n",
      "\n",
      "`try` is like the brave warrior who steps into the unknown. They're trying to accomplish something, but they might face obstacles along the way. Imagine you're on a quest to reach the castle (your goal) when suddenly, you encounter a dragon (an error). The `try` block is like saying, \"I'm going to try to defeat this dragon, even if it means I'll get burned!\"\n",
      "\n",
      "```python\n",
      "try:\n",
      "    # code that might fail\n",
      "    x = 1 / 0\n",
      "except ZeroDivisionError:\n",
      "    print(\"You can't divide by zero! Try again!\")\n",
      "```\n",
      "\n",
      "In this example, the `try` block is trying to calculate `1 / 0`, which will raise a `ZeroDivisionError`. The `except` block catches that error and says, \"Oh no! You tried to divide by zero. Let me try to help you!\"\n",
      "\n",
      "**Except: The Trusty Rescue**\n",
      "\n",
      "`except` is like the trusty rescue team that saves the brave warrior (your code) from failure. They're saying, \"Don't worry, I've got your back! If something goes wrong, we'll catch it and provide a better outcome.\"\n",
      "\n",
      "```python\n",
      "try:\n",
      "    x = 1 / 0\n",
      "except ZeroDivisionError:\n",
      "    print(\"You can't divide by zero! Try again!\")\n",
      "```\n",
      "\n",
      "In this example, the `except` block catches the `ZeroDivisionError` that was raised in the `try` block. It's like saying, \"Aha! I knew you couldn't do that! Let me give you a better answer.\"\n",
      "\n",
      "**Finally: The Clean-Up Crew**\n",
      "\n",
      "`finally` is like the clean-up crew that makes sure everything is tidy and nice after the brave warrior (your code) has completed their quest.\n",
      "\n",
      "```python\n",
      "try:\n",
      "    x = 1 / 0\n",
      "except ZeroDivisionError:\n",
      "    print(\"You can't divide by zero! Try again!\")\n",
      "finally:\n",
      "    print(\"The dragon was defeated!\")\n",
      "```\n",
      "\n",
      "In this example, the `finally` block is executed regardless of whether an error occurred or not. It's like saying, \"Hey, even if we didn't defeat the dragon, let's clean up our mess and make sure everything is okay!\"\n",
      "\n",
      "So, my young friends, that's how `try`, `except`, and `finally` work together to keep your code safe and tidy! Remember, when working with errors, it's always better to be prepared and have a plan B (or C, or D...). Happy coding!\n"
     ]
    }
   ],
   "source": [
    "# for ollama\n",
    "\n",
    "HEADERS = {\"Content-Type\": \"application/json\"}\n",
    "\n",
    "question = str(input(\"Ask:\"))\n",
    "           \n",
    "payload = {\n",
    "    \"model\": MODEL,\n",
    "    \"messages\": get_messages(question),\n",
    "    \"stream\": True\n",
    "}\n",
    "\n",
    "with requests.post(API_KEY, json=payload, headers=HEADERS, stream=True, timeout=300) as r:\n",
    "    r.raise_for_status()\n",
    "    for line in r.iter_lines(decode_unicode=True):\n",
    "        if not line:\n",
    "            continue\n",
    "        data = json.loads(line)\n",
    "        print(data.get(\"message\", {}).get(\"content\", \"\"), end=\"\", flush=True)\n",
    "        if data.get(\"done\"):\n",
    "            break\n",
    "print()"
   ]
  }
 ],
 "metadata": {
  "kernelspec": {
   "display_name": "Python (llms)",
   "language": "python",
   "name": "myenv"
  },
  "language_info": {
   "codemirror_mode": {
    "name": "ipython",
    "version": 3
   },
   "file_extension": ".py",
   "mimetype": "text/x-python",
   "name": "python",
   "nbconvert_exporter": "python",
   "pygments_lexer": "ipython3",
   "version": "3.11.13"
  }
 },
 "nbformat": 4,
 "nbformat_minor": 5
}
