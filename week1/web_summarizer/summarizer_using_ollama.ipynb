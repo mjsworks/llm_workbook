{
 "cells": [
  {
   "cell_type": "markdown",
   "id": "0c02bf7c-da82-4e22-8a9e-fb21a17dbdf1",
   "metadata": {},
   "source": [
    "## Imports"
   ]
  },
  {
   "cell_type": "code",
   "execution_count": 20,
   "id": "1150bc32-30a7-4dd8-8f4b-6d18adc87683",
   "metadata": {},
   "outputs": [],
   "source": [
    "import requests\n",
    "from bs4 import BeautifulSoup\n",
    "from IPython.display import Markdown, display\n",
    "import ollama"
   ]
  },
  {
   "cell_type": "markdown",
   "id": "74624e38-4030-41c2-aa4d-f9124d0b5ec1",
   "metadata": {},
   "source": [
    "## Define the constants"
   ]
  },
  {
   "cell_type": "code",
   "execution_count": 21,
   "id": "cd06b85a-d786-4b80-9310-1671da38a830",
   "metadata": {},
   "outputs": [],
   "source": [
    "OLLAMA_API = \"http://localhost:11434/api/chat\"\n",
    "MODEL=\"llama3.2\""
   ]
  },
  {
   "cell_type": "markdown",
   "id": "014940ed-efe8-476e-9697-ba1e575e1be8",
   "metadata": {},
   "source": [
    "## Soup up the web scapper\n"
   ]
  },
  {
   "cell_type": "code",
   "execution_count": 22,
   "id": "eae7d817-47f4-4b7c-b6db-e8c693540642",
   "metadata": {},
   "outputs": [],
   "source": [
    "headers = {\n",
    "    \"User-Agent\": \"Mozilla/5.0 (Windows NT 10.0; Win64; x64) AppleWebKit/537.36 (KHTML, like Gecko) Chrome/117.0.0.0 Safari/537.36\"\n",
    "}\n",
    "\n",
    "class Website:\n",
    "    def __init__(self, url):\n",
    "        self.url=url\n",
    "        response = requests.get(url, headers)\n",
    "        soup = BeautifulSoup(response.content, \"html.parser\")\n",
    "        self.title = soup.title.string if soup.title else \"No title Found\"\n",
    "        for irrlevant in soup.body([\"script\", \"style\", \"img\", \"input\"]):\n",
    "            irrlevant.decompose()\n",
    "        self.text = soup.body.get_text(separator = \"\\n\", strip=True)"
   ]
  },
  {
   "cell_type": "code",
   "execution_count": 23,
   "id": "76f2a2de-1069-4c66-aa43-540494fe3448",
   "metadata": {
    "scrolled": true
   },
   "outputs": [
    {
     "name": "stdout",
     "output_type": "stream",
     "text": [
      "Home - Edward Donner\n",
      "Home\n",
      "Connect Four\n",
      "Outsmart\n",
      "An arena that pits LLMs against each other in a battle of diplomacy and deviousness\n",
      "About\n",
      "Posts\n",
      "Well, hi there.\n",
      "I’m Ed. I like writing code and experimenting with LLMs, and hopefully you’re here because you do too. I also enjoy DJing (but I’m badly out of practice), amateur electronic music production (\n",
      "very\n",
      "amateur) and losing myself in\n",
      "Hacker News\n",
      ", nodding my head sagely to things I only half understand.\n",
      "I’m the co-founder and CTO of\n",
      "Nebula.io\n",
      ". We’re applying AI to a field where it can make a massive, positive impact: helping people discover their potential and pursue their reason for being. Recruiters use our product today to source, understand, engage and manage talent. I’m previously the founder and CEO of AI startup untapt,\n",
      "acquired in 2021\n",
      ".\n",
      "We work with groundbreaking, proprietary LLMs verticalized for talent, we’ve\n",
      "patented\n",
      "our matching model, and our award-winning platform has happy customers and tons of press coverage.\n",
      "Connect\n",
      "with me for more!\n",
      "May 28, 2025\n",
      "Connecting my courses – become an LLM expert and leader\n",
      "May 18, 2025\n",
      "2025 AI Executive Briefing\n",
      "April 21, 2025\n",
      "The Complete Agentic AI Engineering Course\n",
      "January 23, 2025\n",
      "LLM Workshop – Hands-on with Agents – resources\n",
      "Navigation\n",
      "Home\n",
      "Connect Four\n",
      "Outsmart\n",
      "An arena that pits LLMs against each other in a battle of diplomacy and deviousness\n",
      "About\n",
      "Posts\n",
      "Get in touch\n",
      "ed [at] edwarddonner [dot] com\n",
      "www.edwarddonner.com\n",
      "Follow me\n",
      "LinkedIn\n",
      "Twitter\n",
      "Facebook\n",
      "Subscribe to newsletter\n",
      "Type your email…\n",
      "Subscribe\n"
     ]
    }
   ],
   "source": [
    "site = Website(\"https://edwarddonner.com\")\n",
    "print(site.title)\n",
    "print(site.text)"
   ]
  },
  {
   "cell_type": "markdown",
   "id": "cae8fad3-eb47-4517-a12f-e86602bdb448",
   "metadata": {},
   "source": [
    "## time for prompt"
   ]
  },
  {
   "cell_type": "code",
   "execution_count": 24,
   "id": "cac81214-c18b-4173-a032-ba930168df1a",
   "metadata": {},
   "outputs": [],
   "source": [
    "system_prompt = \"\"\"\n",
    "you are an assistant that analyzes the contents of a website \n",
    "and provides a short summary, ignoring text that might be navigation related.\n",
    "respond in markdown\n",
    "\"\"\""
   ]
  },
  {
   "cell_type": "code",
   "execution_count": 25,
   "id": "5cb643b7-7062-446b-97f8-3bbf9d59a065",
   "metadata": {},
   "outputs": [],
   "source": [
    "def prompt_for_user(website):\n",
    "    user_prompt = f\"You are someone very efficient in summarizing texts. You are looking at a website titiled {website.title}\"\n",
    "    user_prompt += \"\"\"The content of the website is as follows; \n",
    "    please provide a concise digestable summary to the this in markdown.\n",
    "    if it includes any news or announcements, then summarize that too.\"\"\"\n",
    "    user_prompt+= f\"Now you need to look at the website's content so that you can summarize with \\\n",
    "    the best of your knowledge and generate something very amazing and easy to grasp. The content is as follows: {website.text}\"\n",
    "    return user_prompt"
   ]
  },
  {
   "cell_type": "code",
   "execution_count": 26,
   "id": "bb600029-d6ad-420d-b9cf-725d508d6615",
   "metadata": {},
   "outputs": [
    {
     "data": {
      "text/plain": [
       "'\\nyou are an assistant that analyzes the contents of a website \\nand provides a short summary, ignoring text that might be navigation related.\\nrespond in markdown\\n'"
      ]
     },
     "execution_count": 26,
     "metadata": {},
     "output_type": "execute_result"
    }
   ],
   "source": [
    "system_prompt"
   ]
  },
  {
   "cell_type": "code",
   "execution_count": 27,
   "id": "3698959e-6148-42ea-91ae-8429b3f889e9",
   "metadata": {},
   "outputs": [
    {
     "data": {
      "text/plain": [
       "\"You are someone very efficient in summarizing texts. You are looking at a website titiled Home - Edward DonnerThe content of the website is as follows; \\n    please provide a concise digestable summary to the this in markdown.\\n    if it includes any news or announcements, then summarize that too.Now you need to look at the website's content so that you can summarize with     the best of your knowledge and generate something very amazing and easy to grasp. The content is as follows: Home\\nConnect Four\\nOutsmart\\nAn arena that pits LLMs against each other in a battle of diplomacy and deviousness\\nAbout\\nPosts\\nWell, hi there.\\nI’m Ed. I like writing code and experimenting with LLMs, and hopefully you’re here because you do too. I also enjoy DJing (but I’m badly out of practice), amateur electronic music production (\\nvery\\namateur) and losing myself in\\nHacker News\\n, nodding my head sagely to things I only half understand.\\nI’m the co-founder and CTO of\\nNebula.io\\n. We’re applying AI to a field where it can make a massive, positive impact: helping people discover their potential and pursue their reason for being. Recruiters use our product today to source, understand, engage and manage talent. I’m previously the founder and CEO of AI startup untapt,\\nacquired in 2021\\n.\\nWe work with groundbreaking, proprietary LLMs verticalized for talent, we’ve\\npatented\\nour matching model, and our award-winning platform has happy customers and tons of press coverage.\\nConnect\\nwith me for more!\\nMay 28, 2025\\nConnecting my courses – become an LLM expert and leader\\nMay 18, 2025\\n2025 AI Executive Briefing\\nApril 21, 2025\\nThe Complete Agentic AI Engineering Course\\nJanuary 23, 2025\\nLLM Workshop – Hands-on with Agents – resources\\nNavigation\\nHome\\nConnect Four\\nOutsmart\\nAn arena that pits LLMs against each other in a battle of diplomacy and deviousness\\nAbout\\nPosts\\nGet in touch\\ned [at] edwarddonner [dot] com\\nwww.edwarddonner.com\\nFollow me\\nLinkedIn\\nTwitter\\nFacebook\\nSubscribe to newsletter\\nType your email…\\nSubscribe\""
      ]
     },
     "execution_count": 27,
     "metadata": {},
     "output_type": "execute_result"
    }
   ],
   "source": [
    "prompt_for_user(site)"
   ]
  },
  {
   "cell_type": "markdown",
   "id": "bd83bd5a-0c7b-4a6e-b4b7-f9687eb7bba2",
   "metadata": {},
   "source": [
    "## generate the mesaage to send"
   ]
  },
  {
   "cell_type": "code",
   "execution_count": 37,
   "id": "76e09c0c-d0ee-4ad8-8c47-4f152abe5de0",
   "metadata": {},
   "outputs": [],
   "source": [
    "def generate_messages(url):\n",
    "    site = Website(url)\n",
    "    messages = [\n",
    "    {\"role\": \"system\", \"content\": system_prompt},\n",
    "    {\"role\": \"user\", \"content\": prompt_for_user(site)}\n",
    "    ]\n",
    "    return messages"
   ]
  },
  {
   "cell_type": "code",
   "execution_count": 29,
   "id": "278bbbf7-6deb-4a9d-8c9a-4f4778ff0979",
   "metadata": {},
   "outputs": [
    {
     "name": "stdout",
     "output_type": "stream",
     "text": [
      "[{'role': 'system', 'content': '\\nyou are an assistant that analyzes the contents of a website \\nand provides a short summary, ignoring text that might be navigation related.\\nrespond in markdown\\n'}, {'role': 'user', 'content': \"You are someone very efficient in summarizing texts. You are looking at a website titiled Home - Edward DonnerThe content of the website is as follows; \\n    please provide a concise digestable summary to the this in markdown.\\n    if it includes any news or announcements, then summarize that too.Now you need to look at the website's content so that you can summarize with     the best of your knowledge and generate something very amazing and easy to grasp. The content is as follows: Home\\nConnect Four\\nOutsmart\\nAn arena that pits LLMs against each other in a battle of diplomacy and deviousness\\nAbout\\nPosts\\nWell, hi there.\\nI’m Ed. I like writing code and experimenting with LLMs, and hopefully you’re here because you do too. I also enjoy DJing (but I’m badly out of practice), amateur electronic music production (\\nvery\\namateur) and losing myself in\\nHacker News\\n, nodding my head sagely to things I only half understand.\\nI’m the co-founder and CTO of\\nNebula.io\\n. We’re applying AI to a field where it can make a massive, positive impact: helping people discover their potential and pursue their reason for being. Recruiters use our product today to source, understand, engage and manage talent. I’m previously the founder and CEO of AI startup untapt,\\nacquired in 2021\\n.\\nWe work with groundbreaking, proprietary LLMs verticalized for talent, we’ve\\npatented\\nour matching model, and our award-winning platform has happy customers and tons of press coverage.\\nConnect\\nwith me for more!\\nMay 28, 2025\\nConnecting my courses – become an LLM expert and leader\\nMay 18, 2025\\n2025 AI Executive Briefing\\nApril 21, 2025\\nThe Complete Agentic AI Engineering Course\\nJanuary 23, 2025\\nLLM Workshop – Hands-on with Agents – resources\\nNavigation\\nHome\\nConnect Four\\nOutsmart\\nAn arena that pits LLMs against each other in a battle of diplomacy and deviousness\\nAbout\\nPosts\\nGet in touch\\ned [at] edwarddonner [dot] com\\nwww.edwarddonner.com\\nFollow me\\nLinkedIn\\nTwitter\\nFacebook\\nSubscribe to newsletter\\nType your email…\\nSubscribe\"}]\n"
     ]
    }
   ],
   "source": [
    "print(messages)"
   ]
  },
  {
   "cell_type": "code",
   "execution_count": 38,
   "id": "581d17e3-a56e-4a64-9bb0-7c0bd9d7be57",
   "metadata": {},
   "outputs": [],
   "source": [
    "def summarize(url):\n",
    "    website = Website(url)\n",
    "    response = ollama.chat(\n",
    "        model=MODEL,\n",
    "        messages=generate_messages(url)\n",
    "    )\n",
    "    return response[\"message\"][\"content\"]"
   ]
  },
  {
   "cell_type": "code",
   "execution_count": 39,
   "id": "0a3a5f01-f0b3-41f8-bf4c-29d8b133bd37",
   "metadata": {},
   "outputs": [],
   "source": [
    "def display_summary(url):\n",
    "    summary = summarize(url)\n",
    "    display(Markdown(summary))"
   ]
  },
  {
   "cell_type": "code",
   "execution_count": 40,
   "id": "f56829f6-8b51-40f1-bd04-1939e2e357d4",
   "metadata": {},
   "outputs": [
    {
     "data": {
      "text/markdown": [
       "# Summary\n",
       "### Edward Donner's Website\n",
       "\n",
       "**Overview**\n",
       "Edward Donner is the founder and CTO of Nebula.io, a company applying AI to help people discover their potential. He also co-founded and previously led an AI startup that was acquired in 2021.\n",
       "\n",
       "**Recent News/Announcements**\n",
       "\n",
       "* **LLM Expert Courses**: Edward will be launching courses on becoming an LLM expert and leader.\n",
       "* **2025 AI Executive Briefing**: An upcoming event for executives to learn about the latest AI trends.\n",
       "* **The Complete Agentic AI Engineering Course**: A course focused on agentic AI engineering, now available.\n",
       "* **LLM Workshop - Hands-on with Agents**: Resources have been made available for this workshop.\n",
       "\n",
       "**About**\n",
       "Edward enjoys writing code, experimenting with LLMs, and DJing. He shares his insights on Hacker News and encourages others to join him in exploring the world of AI."
      ],
      "text/plain": [
       "<IPython.core.display.Markdown object>"
      ]
     },
     "metadata": {},
     "output_type": "display_data"
    }
   ],
   "source": [
    "display_summary(\"https://edwarddonner.com\")"
   ]
  },
  {
   "cell_type": "code",
   "execution_count": 41,
   "id": "b84151d2-a69b-4ccf-b037-13050c421094",
   "metadata": {},
   "outputs": [
    {
     "data": {
      "text/markdown": [
       "This appears to be a sample issue of CNN's website, showcasing a wide range of news articles and topics from various categories such as politics, business, entertainment, sports, and more.\n",
       "\n",
       "Here are some notable articles and sections highlighted:\n",
       "\n",
       "1. **Politics**:\n",
       "\t* \"Trump's 7 Most Authoritarian Moves So Far\"\n",
       "\t* \"For Putin Summit, Trump Should Channel Reagan\"\n",
       "2. **Business**:\n",
       "\t* \"Alex Jones' Infowars Will Go Up for Sale Yet Again, Judge Rules\"\n",
       "\t* \"The 'Godfather of AI' Reveals the Only Way Humanity Can Survive Superintelligent AI\"\n",
       "3. **Entertainment**:\n",
       "\t* \"Thank You, 'Sex and the City,' for Being Part of Our Story\"\n",
       "\t* \"Beyoncé Wins Her First Emmy\"\n",
       "4. **Sports**:\n",
       "\t* \"Sha'S Carri Richardson Addresses Domestic Violence Arrest and Apologizes to Christian Coleman\"\n",
       "5. **Health & Wellness**:\n",
       "\t* \"Guarding is Why You Can't Get Rid of That Ongoing Tension in Your Body\"\n",
       "6. **Celebrity**:\n",
       "\t* \"Taylor Swift's Ultimate Hype Man May Be Jason Kelce\"\n",
       "7. **Technology**:\n",
       "\t* \"Hear from a Psychiatrist Who Saw a Dozen People Spiral After AI Connections\"\n",
       "8. **Science & Space**:\n",
       "\t* \"Meteors Will Stream Across the Sky in One of the Year's Best Celestial Showers\"\n",
       "\n",
       "These are just a few examples of the diverse range of topics and articles covered on this sample issue of CNN's website."
      ],
      "text/plain": [
       "<IPython.core.display.Markdown object>"
      ]
     },
     "metadata": {},
     "output_type": "display_data"
    }
   ],
   "source": [
    "display_summary(\"https://www.cnn.com\")"
   ]
  }
 ],
 "metadata": {
  "kernelspec": {
   "display_name": "Python (llms)",
   "language": "python",
   "name": "myenv"
  },
  "language_info": {
   "codemirror_mode": {
    "name": "ipython",
    "version": 3
   },
   "file_extension": ".py",
   "mimetype": "text/x-python",
   "name": "python",
   "nbconvert_exporter": "python",
   "pygments_lexer": "ipython3",
   "version": "3.11.13"
  }
 },
 "nbformat": 4,
 "nbformat_minor": 5
}
