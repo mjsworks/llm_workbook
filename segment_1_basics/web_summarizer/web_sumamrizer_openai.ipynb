{
 "cells": [
  {
   "cell_type": "markdown",
   "id": "5ef720b3-ebe7-45b4-82ac-f0e9919ce399",
   "metadata": {},
   "source": [
    "## imports"
   ]
  },
  {
   "cell_type": "code",
   "execution_count": 14,
   "id": "0bf54a4f-b01e-42dc-996e-10dc33fa8852",
   "metadata": {},
   "outputs": [],
   "source": [
    "import os\n",
    "import requests\n",
    "from dotenv import load_dotenv\n",
    "from bs4 import BeautifulSoup\n",
    "from IPython.display import Markdown, display\n",
    "from openai import OpenAI"
   ]
  },
  {
   "cell_type": "markdown",
   "id": "efc375fb-53e9-4e40-9f42-40f017dbddb7",
   "metadata": {},
   "source": [
    "## connect to openai"
   ]
  },
  {
   "cell_type": "code",
   "execution_count": 15,
   "id": "f33311a1-1442-48be-9788-f7f6f338486b",
   "metadata": {},
   "outputs": [
    {
     "name": "stdout",
     "output_type": "stream",
     "text": [
      "API Key found!\n"
     ]
    }
   ],
   "source": [
    "load_dotenv()\n",
    "api_key = os.getenv(\"OPENAI_API_KEY\")\n",
    "\n",
    "if not api_key:\n",
    "    print(\"Something is wrong. check and fix\")\n",
    "else:\n",
    "    print(\"API Key found!\")"
   ]
  },
  {
   "cell_type": "code",
   "execution_count": 16,
   "id": "05305fea-215d-4c25-8580-f9fd2ed5752d",
   "metadata": {},
   "outputs": [],
   "source": [
    "openai = OpenAI()"
   ]
  },
  {
   "cell_type": "markdown",
   "id": "38d68e5b-47e4-492c-bd5a-2744de252ff1",
   "metadata": {},
   "source": [
    "## call to the model and check the preview"
   ]
  },
  {
   "cell_type": "code",
   "execution_count": 17,
   "id": "bf7ad7bd-a29c-4344-a696-704908eabf81",
   "metadata": {},
   "outputs": [
    {
     "name": "stdout",
     "output_type": "stream",
     "text": [
      "Hello! Welcome! I'm here and ready to help you. My day is going well, thank you for asking. How can I assist you today?\n"
     ]
    }
   ],
   "source": [
    "message = \"hello!! this is my first ever message to you. How is your day?\"\n",
    "\n",
    "response = openai.chat.completions.create(model=\"gpt-4o-mini\", messages=[{\"role\": \"user\", \"content\": message}])\n",
    "\n",
    "print(response.choices[0].message.content)"
   ]
  },
  {
   "cell_type": "code",
   "execution_count": 18,
   "id": "c34ee088-3fde-44d5-ad77-c3a02f1a31c9",
   "metadata": {},
   "outputs": [],
   "source": [
    "headers={\n",
    "    \"User-Agent\": \"Mozilla/5.0 (Windows NT 10.0; Win64; x64) AppleWebKit/537.36 (KHTML, like Gecko) Chrome/117.0.0.0 Safari/537.36\"\n",
    "}\n",
    "\n",
    "class Website:\n",
    "    def __init__(self, url):\n",
    "        self.url=url\n",
    "        response = requests.get(url, headers=headers)\n",
    "        soup = BeautifulSoup(response.content, 'html.parser')\n",
    "        self.title = soup.title.string if soup.title else \"No title found\"\n",
    "        for irrelevant in soup.body([\"script\", \"style\", \"img\", \"input\"]):\n",
    "            irrelevant.decompose()\n",
    "\n",
    "        self.text = soup.body.get_text(separator=\"\\n\", strip=True)"
   ]
  },
  {
   "cell_type": "code",
   "execution_count": 19,
   "id": "1cb35c7b-1260-411c-9368-5b34b107f872",
   "metadata": {
    "scrolled": true
   },
   "outputs": [
    {
     "name": "stdout",
     "output_type": "stream",
     "text": [
      "Home - Edward Donner\n",
      "Home\n",
      "Connect Four\n",
      "Outsmart\n",
      "An arena that pits LLMs against each other in a battle of diplomacy and deviousness\n",
      "About\n",
      "Posts\n",
      "Well, hi there.\n",
      "I’m Ed. I like writing code and experimenting with LLMs, and hopefully you’re here because you do too. I also enjoy DJing (but I’m badly out of practice), amateur electronic music production (\n",
      "very\n",
      "amateur) and losing myself in\n",
      "Hacker News\n",
      ", nodding my head sagely to things I only half understand.\n",
      "I’m the co-founder and CTO of\n",
      "Nebula.io\n",
      ". We’re applying AI to a field where it can make a massive, positive impact: helping people discover their potential and pursue their reason for being. Recruiters use our product today to source, understand, engage and manage talent. I’m previously the founder and CEO of AI startup untapt,\n",
      "acquired in 2021\n",
      ".\n",
      "We work with groundbreaking, proprietary LLMs verticalized for talent, we’ve\n",
      "patented\n",
      "our matching model, and our award-winning platform has happy customers and tons of press coverage.\n",
      "Connect\n",
      "with me for more!\n",
      "May 28, 2025\n",
      "Connecting my courses – become an LLM expert and leader\n",
      "May 18, 2025\n",
      "2025 AI Executive Briefing\n",
      "April 21, 2025\n",
      "The Complete Agentic AI Engineering Course\n",
      "January 23, 2025\n",
      "LLM Workshop – Hands-on with Agents – resources\n",
      "Navigation\n",
      "Home\n",
      "Connect Four\n",
      "Outsmart\n",
      "An arena that pits LLMs against each other in a battle of diplomacy and deviousness\n",
      "About\n",
      "Posts\n",
      "Get in touch\n",
      "ed [at] edwarddonner [dot] com\n",
      "www.edwarddonner.com\n",
      "Follow me\n",
      "LinkedIn\n",
      "Twitter\n",
      "Facebook\n",
      "Subscribe to newsletter\n",
      "Type your email…\n",
      "Subscribe\n"
     ]
    }
   ],
   "source": [
    "site = Website(\"https://edwarddonner.com\")\n",
    "print(site.title)\n",
    "print(site.text)"
   ]
  },
  {
   "cell_type": "markdown",
   "id": "6001911a-d2e7-4b08-ad88-408457ba337f",
   "metadata": {},
   "source": [
    "### prompts"
   ]
  },
  {
   "cell_type": "code",
   "execution_count": 20,
   "id": "ae4d5bb6-3dd9-403f-9a18-ced0dfb34497",
   "metadata": {},
   "outputs": [],
   "source": [
    "system_prompt = \"you are an assistant that analyzes the contents of a website \\\n",
    "and provides a short summary, ignoring text that might be navigation related. \\\n",
    "respond in markdown\""
   ]
  },
  {
   "cell_type": "code",
   "execution_count": 21,
   "id": "534d7220-c53f-43f6-9f30-ecd8f55c7705",
   "metadata": {},
   "outputs": [],
   "source": [
    "def user_prompt_for(website):\n",
    "    user_prompt = f\"You are looking at a website called {website.title}\"\n",
    "    user_prompt+= \"\\n The content of the website is as follows; \\\n",
    "    please provide a concise digestable summary to the this in markdown. \\\n",
    "    if it includes any news or announcements, then summarize that too.\\n\\n\"\n",
    "    user_prompt+=website.text\n",
    "    return user_prompt"
   ]
  },
  {
   "cell_type": "code",
   "execution_count": 22,
   "id": "a4c83cc0-d054-40cc-85be-0facc101a54b",
   "metadata": {},
   "outputs": [
    {
     "data": {
      "text/plain": [
       "'you are an assistant that analyzes the contents of a website and provides a short summary, ignoring text that might be navigation related. respond in markdown'"
      ]
     },
     "execution_count": 22,
     "metadata": {},
     "output_type": "execute_result"
    }
   ],
   "source": [
    "system_prompt"
   ]
  },
  {
   "cell_type": "code",
   "execution_count": 23,
   "id": "bc744d2b-890b-4ef3-a7a3-eedc8e8c0f16",
   "metadata": {},
   "outputs": [
    {
     "name": "stdout",
     "output_type": "stream",
     "text": [
      "You are looking at a website called Home - Edward Donner\n",
      " The content of the website is as follows;     please provide a concise digestable summary to the this in markdown.     if it includes any news or announcements, then summarize that too.\n",
      "\n",
      "Home\n",
      "Connect Four\n",
      "Outsmart\n",
      "An arena that pits LLMs against each other in a battle of diplomacy and deviousness\n",
      "About\n",
      "Posts\n",
      "Well, hi there.\n",
      "I’m Ed. I like writing code and experimenting with LLMs, and hopefully you’re here because you do too. I also enjoy DJing (but I’m badly out of practice), amateur electronic music production (\n",
      "very\n",
      "amateur) and losing myself in\n",
      "Hacker News\n",
      ", nodding my head sagely to things I only half understand.\n",
      "I’m the co-founder and CTO of\n",
      "Nebula.io\n",
      ". We’re applying AI to a field where it can make a massive, positive impact: helping people discover their potential and pursue their reason for being. Recruiters use our product today to source, understand, engage and manage talent. I’m previously the founder and CEO of AI startup untapt,\n",
      "acquired in 2021\n",
      ".\n",
      "We work with groundbreaking, proprietary LLMs verticalized for talent, we’ve\n",
      "patented\n",
      "our matching model, and our award-winning platform has happy customers and tons of press coverage.\n",
      "Connect\n",
      "with me for more!\n",
      "May 28, 2025\n",
      "Connecting my courses – become an LLM expert and leader\n",
      "May 18, 2025\n",
      "2025 AI Executive Briefing\n",
      "April 21, 2025\n",
      "The Complete Agentic AI Engineering Course\n",
      "January 23, 2025\n",
      "LLM Workshop – Hands-on with Agents – resources\n",
      "Navigation\n",
      "Home\n",
      "Connect Four\n",
      "Outsmart\n",
      "An arena that pits LLMs against each other in a battle of diplomacy and deviousness\n",
      "About\n",
      "Posts\n",
      "Get in touch\n",
      "ed [at] edwarddonner [dot] com\n",
      "www.edwarddonner.com\n",
      "Follow me\n",
      "LinkedIn\n",
      "Twitter\n",
      "Facebook\n",
      "Subscribe to newsletter\n",
      "Type your email…\n",
      "Subscribe\n"
     ]
    }
   ],
   "source": [
    "print(user_prompt_for(site))"
   ]
  },
  {
   "cell_type": "markdown",
   "id": "2e9eea0f-f8c4-4c8a-8628-c9cd0710aee5",
   "metadata": {},
   "source": [
    "## messages"
   ]
  },
  {
   "cell_type": "code",
   "execution_count": 24,
   "id": "982deedd-181e-4b0c-898d-d4a2816a2778",
   "metadata": {},
   "outputs": [],
   "source": [
    "def messages_for(website):\n",
    "    # openai's system is a list of dictionaries\n",
    "    return [\n",
    "        {\"role\": \"system\", \"content\": system_prompt},\n",
    "        {\"role\": \"user\", \"content\": user_prompt_for(website)}\n",
    "    ]"
   ]
  },
  {
   "cell_type": "code",
   "execution_count": 25,
   "id": "a32f0122-abab-4d9b-98d5-c44ad8312348",
   "metadata": {},
   "outputs": [
    {
     "name": "stdout",
     "output_type": "stream",
     "text": [
      "[{'role': 'system', 'content': 'you are an assistant that analyzes the contents of a website and provides a short summary, ignoring text that might be navigation related. respond in markdown'}, {'role': 'user', 'content': 'You are looking at a website called Home - Edward Donner\\n The content of the website is as follows;     please provide a concise digestable summary to the this in markdown.     if it includes any news or announcements, then summarize that too.\\n\\nHome\\nConnect Four\\nOutsmart\\nAn arena that pits LLMs against each other in a battle of diplomacy and deviousness\\nAbout\\nPosts\\nWell, hi there.\\nI’m Ed. I like writing code and experimenting with LLMs, and hopefully you’re here because you do too. I also enjoy DJing (but I’m badly out of practice), amateur electronic music production (\\nvery\\namateur) and losing myself in\\nHacker News\\n, nodding my head sagely to things I only half understand.\\nI’m the co-founder and CTO of\\nNebula.io\\n. We’re applying AI to a field where it can make a massive, positive impact: helping people discover their potential and pursue their reason for being. Recruiters use our product today to source, understand, engage and manage talent. I’m previously the founder and CEO of AI startup untapt,\\nacquired in 2021\\n.\\nWe work with groundbreaking, proprietary LLMs verticalized for talent, we’ve\\npatented\\nour matching model, and our award-winning platform has happy customers and tons of press coverage.\\nConnect\\nwith me for more!\\nMay 28, 2025\\nConnecting my courses – become an LLM expert and leader\\nMay 18, 2025\\n2025 AI Executive Briefing\\nApril 21, 2025\\nThe Complete Agentic AI Engineering Course\\nJanuary 23, 2025\\nLLM Workshop – Hands-on with Agents – resources\\nNavigation\\nHome\\nConnect Four\\nOutsmart\\nAn arena that pits LLMs against each other in a battle of diplomacy and deviousness\\nAbout\\nPosts\\nGet in touch\\ned [at] edwarddonner [dot] com\\nwww.edwarddonner.com\\nFollow me\\nLinkedIn\\nTwitter\\nFacebook\\nSubscribe to newsletter\\nType your email…\\nSubscribe'}]\n"
     ]
    }
   ],
   "source": [
    "# preview\n",
    "print(messages_for(site))"
   ]
  },
  {
   "cell_type": "code",
   "execution_count": 26,
   "id": "1033f517-ceab-4b26-866a-805f6808db29",
   "metadata": {},
   "outputs": [],
   "source": [
    "def summarize(url):\n",
    "    website = Website(url)\n",
    "    response = openai.chat.completions.create(\n",
    "        model = \"gpt-4o-mini\",\n",
    "        messages = messages_for(website)\n",
    "    )\n",
    "    return response.choices[0].message.content"
   ]
  },
  {
   "cell_type": "code",
   "execution_count": 27,
   "id": "a1a9e2b4-2619-4a6b-ace3-d72d097de8cf",
   "metadata": {},
   "outputs": [
    {
     "data": {
      "text/plain": [
       "'# Summary of Edward Donner\\'s Website\\n\\n**About Edward Donner**\\n- Ed is a programmer and LLM (Large Language Model) enthusiast, also interested in DJing and amateur music production. \\n- He is the co-founder and CTO of Nebula.io, where they apply AI to help individuals discover their potential in talent management. \\n- Previously, Ed founded the AI startup untapt, which was acquired in 2021. \\n- Nebula.io utilizes proprietary LLMs for talent matching and has developed a patented model, garnering significant media attention.\\n\\n**Courses and Events**\\n- **May 28, 2025**: Launch of courses aimed at developing expertise in LLMs.\\n- **May 18, 2025**: Hosting the 2025 AI Executive Briefing.\\n- **April 21, 2025**: Introduction of the Complete Agentic AI Engineering Course.\\n- **January 23, 2025**: Offering resources for a hands-on LLM workshop focused on agents. \\n\\n**Additional Information**\\n- The website promotes connection opportunities via social media and email newsletters. \\n- There is a particular focus on the competitive game \"Outsmart,\" which features LLMs in strategic scenarios.'"
      ]
     },
     "execution_count": 27,
     "metadata": {},
     "output_type": "execute_result"
    }
   ],
   "source": [
    "summarize(\"https://edwarddonner.com\")"
   ]
  },
  {
   "cell_type": "code",
   "execution_count": 28,
   "id": "2dd06f62-799f-419f-bde3-624b72076fc5",
   "metadata": {},
   "outputs": [],
   "source": [
    "def display_summary(url):\n",
    "    summary = summarize(url)\n",
    "    display(Markdown(summary))"
   ]
  },
  {
   "cell_type": "code",
   "execution_count": 29,
   "id": "ae244bbc-cbfd-4c83-aa27-132e62e71835",
   "metadata": {},
   "outputs": [
    {
     "data": {
      "text/markdown": [
       "# Summary of Edward Donner's Website\n",
       "\n",
       "**About Ed:**\n",
       "Edward Donner is a programmer and an enthusiast of large language models (LLMs). He is the co-founder and CTO of Nebula.io, a company focused on utilizing AI to enhance talent discovery and engagement. He has a background in starting AI companies, including untapt, which was acquired in 2021.\n",
       "\n",
       "**Professional Interests:**\n",
       "- Experimenting with LLMs\n",
       "- DJing and amateur electronic music production\n",
       "- Engaging with Hacker News\n",
       "\n",
       "**Nebula.io:**\n",
       "Nebula.io specializes in applying AI to help people realize their potential, primarily assisting recruiters in managing talent with innovative LLM solutions and a patented matching model.\n",
       "\n",
       "**Recent Announcements:**\n",
       "- **May 28, 2025:** Launch of a course focused on becoming an LLM expert and leader.\n",
       "- **May 18, 2025:** Announcement of the 2025 AI Executive Briefing.\n",
       "- **April 21, 2025:** Release of \"The Complete Agentic AI Engineering Course.\"\n",
       "- **January 23, 2025:** Workshop titled \"LLM Workshop – Hands-on with Agents,\" which includes resources for participants."
      ],
      "text/plain": [
       "<IPython.core.display.Markdown object>"
      ]
     },
     "metadata": {},
     "output_type": "display_data"
    }
   ],
   "source": [
    "display_summary(\"https://edwarddonner.com\")"
   ]
  },
  {
   "cell_type": "code",
   "execution_count": 32,
   "id": "53653298-5743-45af-af7e-ac9336450cf5",
   "metadata": {},
   "outputs": [
    {
     "data": {
      "text/markdown": [
       "# CNN Summary\n",
       "\n",
       "### Key News Highlights\n",
       "\n",
       "- **Trump's Administration Actions**: The White House is reviewing Smithsonian exhibits to align with President Trump's directives. Additionally, Trump's nominee for Bureau of Labor Statistics commissioner suggested suspending monthly job reports but later retracted the statement.\n",
       "  \n",
       "- **National Guard Deployment**: Trump has announced the deployment of National Guard soldiers in Washington, D.C., increasing federal control over local police as part of his administration's efforts in the capital.\n",
       "\n",
       "- **Ukraine-Russia Conflict**: Reports indicate that small groups of Russian troops have broken through Ukraine's defenses in the Donetsk region as tensions continue to rise in the ongoing conflict.\n",
       "\n",
       "- **Recent Events**:\n",
       "  - The body of a missing American hiker was found in Spain's Pyrenees.\n",
       "  - Taylor Swift's romantic developments with NFL star Travis Kelce are gaining media attention.\n",
       "  - Kodak has warned that it may cease operations as it faces financial difficulties.\n",
       "\n",
       "- **Climate Crisis**: Alaska is facing a glacier outburst that threatens to send a significant amount of water downstream towards Juneau, while extreme heat continues to impact Europe.\n",
       "\n",
       "### Additional Notes\n",
       "- The site encourages user feedback regarding advertising relevance and technical performance.\n",
       "- Various features include links to news on health, entertainment, technology, business, sports, and global affairs with ongoing updates on various topics like the Israel-Hamas conflict and climate-related developments."
      ],
      "text/plain": [
       "<IPython.core.display.Markdown object>"
      ]
     },
     "metadata": {},
     "output_type": "display_data"
    }
   ],
   "source": [
    "# some more\n",
    "display_summary(\"https://www.cnn.com\")"
   ]
  },
  {
   "cell_type": "code",
   "execution_count": 33,
   "id": "d031b685-1efa-4cfb-a91c-9d462445ac6e",
   "metadata": {},
   "outputs": [
    {
     "data": {
      "text/markdown": [
       "# Anthropic Overview\n",
       "\n",
       "Anthropic focuses on developing AI technologies with an emphasis on safety and responsibility. Their main product, **Claude**, represents a series of AI models, with the latest being **Claude Opus 4.1** and **Claude Sonnet 4**. These models are designed to assist in various applications, including coding, customer support, and education, showcasing significant advancements in processing capabilities and functionalities.\n",
       "\n",
       "## Key Announcements:\n",
       "- **ISO 42001 Certification**: Anthropic has announced their certification to ISO 42001, which underscores their commitment to high standards in AI development.\n",
       "- **New AI Models**: Updates include Claude Opus 4.1, aimed at handling complex tasks in coding and AI-assisted workflows.\n",
       "\n",
       "## Core Philosophy:\n",
       "Anthropic prioritizes the long-term well-being of humanity in their AI endeavors, advocating for responsible AI development and transparency in their operations. Their work includes ongoing research and policy initiatives to address societal impacts of AI technologies."
      ],
      "text/plain": [
       "<IPython.core.display.Markdown object>"
      ]
     },
     "metadata": {},
     "output_type": "display_data"
    }
   ],
   "source": [
    "display_summary(\"https://www.anthropic.com/\")"
   ]
  }
 ],
 "metadata": {
  "kernelspec": {
   "display_name": "Python (llms)",
   "language": "python",
   "name": "myenv"
  },
  "language_info": {
   "codemirror_mode": {
    "name": "ipython",
    "version": 3
   },
   "file_extension": ".py",
   "mimetype": "text/x-python",
   "name": "python",
   "nbconvert_exporter": "python",
   "pygments_lexer": "ipython3",
   "version": "3.11.13"
  }
 },
 "nbformat": 4,
 "nbformat_minor": 5
}
