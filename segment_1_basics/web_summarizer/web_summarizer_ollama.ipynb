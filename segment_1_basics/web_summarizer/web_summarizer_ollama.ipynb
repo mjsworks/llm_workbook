{
 "cells": [
  {
   "cell_type": "markdown",
   "id": "08fa4805-dee3-46d0-b76d-ee42abf0542e",
   "metadata": {},
   "source": [
    "### Ollama installation check\n",
    "if we have ollama on the system, we can visit http://localhost:11434 - it should show \"Ollama is running\".\n",
    "if not and we know that the system has ollama installed, we can go to the terminal and type \"ollama serve\" and then try the link again and it should be sorted."
   ]
  },
  {
   "cell_type": "markdown",
   "id": "5ea21866-5d49-490f-a087-c1c43f86cd8e",
   "metadata": {},
   "source": [
    "### imports"
   ]
  },
  {
   "cell_type": "code",
   "execution_count": 2,
   "id": "01b7663b-8227-4681-897b-d2fe95df94fb",
   "metadata": {},
   "outputs": [],
   "source": [
    "import requests\n",
    "from bs4 import BeautifulSoup\n",
    "from IPython.display import Markdown, display"
   ]
  },
  {
   "cell_type": "markdown",
   "id": "08c20442-5963-454a-88e8-a46d93f273ba",
   "metadata": {},
   "source": [
    "### constants"
   ]
  },
  {
   "cell_type": "code",
   "execution_count": 3,
   "id": "d17846d0-d118-48a8-9c5b-43a6b79b6c95",
   "metadata": {},
   "outputs": [],
   "source": [
    "OLLAMA_API = \"http://localhost:11434/api/chat\"\n",
    "HEADERS = {\"Content-Type\": \"application/json\"} # the body I am sending is in JSON format, type APPLICATION\n",
    "MODEL = \"llama3.2\""
   ]
  },
  {
   "cell_type": "markdown",
   "id": "7f519e52-78b5-4870-86eb-e37febecb254",
   "metadata": {},
   "source": [
    "### Prompt types\n",
    "there are 3 types of prompts:\n",
    "1. System\n",
    "2. User\n",
    "3. Assistant\n",
    "\n",
    "System prompts are something that builds the high level persona of the model. It gives a general idea about what to do or how to behave.\n",
    "\n",
    "User promots are the messages that people actually put. This is the query that people come up with and expects answers.\n",
    "\n",
    "Assistant Prompts are something that the model generates. It is the answer to the queries we make.\n",
    "\n",
    "So, from users, we put out 2 sorts of prompts and we get 1 type in return."
   ]
  },
  {
   "cell_type": "code",
   "execution_count": 4,
   "id": "e844e109-dad0-4557-bd14-d86d2b40ecc9",
   "metadata": {},
   "outputs": [],
   "source": [
    "## the messages is always a list of dictionaries\n",
    "messages = [\n",
    "    {\"role\": \"user\", \"content\": \"Describe some of the business applications of Generative AI\"}\n",
    "]"
   ]
  },
  {
   "cell_type": "code",
   "execution_count": 5,
   "id": "2f2455c7-d3b9-410b-ae7a-610f0b55d531",
   "metadata": {},
   "outputs": [],
   "source": [
    "\"\"\"\n",
    "payload is the data I will be sending as a body of my HTTP request to the API.\n",
    "Streaming is we get the response as the system generates it. like typing. False gives us the answer after it has been generated.\n",
    "\"\"\"\n",
    "\n",
    "payload = {\n",
    "    \"model\": MODEL,\n",
    "    \"messages\": messages,\n",
    "    \"stream\": False\n",
    "}"
   ]
  },
  {
   "cell_type": "code",
   "execution_count": 7,
   "id": "f090859a-1255-4002-9902-8dd3748ab085",
   "metadata": {},
   "outputs": [
    {
     "name": "stdout",
     "output_type": "stream",
     "text": [
      "\u001b[?2026h\u001b[?25l\u001b[1Gpulling manifest ⠋ \u001b[K\u001b[?25h\u001b[?2026l\u001b[?2026h\u001b[?25l\u001b[1Gpulling manifest ⠙ \u001b[K\u001b[?25h\u001b[?2026l\u001b[?2026h\u001b[?25l\u001b[1Gpulling manifest ⠹ \u001b[K\u001b[?25h\u001b[?2026l\u001b[?2026h\u001b[?25l\u001b[1Gpulling manifest ⠸ \u001b[K\u001b[?25h\u001b[?2026l\u001b[?2026h\u001b[?25l\u001b[1Gpulling manifest ⠼ \u001b[K\u001b[?25h\u001b[?2026l\u001b[?2026h\u001b[?25l\u001b[1Gpulling manifest ⠴ \u001b[K\u001b[?25h\u001b[?2026l\u001b[?2026h\u001b[?25l\u001b[1Gpulling manifest ⠦ \u001b[K\u001b[?25h\u001b[?2026l\u001b[?2026h\u001b[?25l\u001b[1Gpulling manifest ⠧ \u001b[K\u001b[?25h\u001b[?2026l\u001b[?2026h\u001b[?25l\u001b[1Gpulling manifest ⠇ \u001b[K\u001b[?25h\u001b[?2026l\u001b[?2026h\u001b[?25l\u001b[1Gpulling manifest ⠏ \u001b[K\u001b[?25h\u001b[?2026l\u001b[?2026h\u001b[?25l\u001b[1Gpulling manifest ⠋ \u001b[K\u001b[?25h\u001b[?2026l\u001b[?2026h\u001b[?25l\u001b[1Gpulling manifest ⠙ \u001b[K\u001b[?25h\u001b[?2026l\u001b[?2026h\u001b[?25l\u001b[1Gpulling manifest ⠹ \u001b[K\u001b[?25h\u001b[?2026l\u001b[?2026h\u001b[?25l\u001b[1Gpulling manifest ⠸ \u001b[K\u001b[?25h\u001b[?2026l\u001b[?2026h\u001b[?25l\u001b[1Gpulling manifest ⠼ \u001b[K\u001b[?25h\u001b[?2026l\u001b[?2026h\u001b[?25l\u001b[1Gpulling manifest ⠴ \u001b[K\u001b[?25h\u001b[?2026l\u001b[?2026h\u001b[?25l\u001b[1Gpulling manifest ⠦ \u001b[K\u001b[?25h\u001b[?2026l\u001b[?2026h\u001b[?25l\u001b[1Gpulling manifest \u001b[K\n",
      "pulling dde5aa3fc5ff: 100% ▕██████████████████▏ 2.0 GB                         \u001b[K\n",
      "pulling 966de95ca8a6: 100% ▕██████████████████▏ 1.4 KB                         \u001b[K\n",
      "pulling fcc5a6bec9da: 100% ▕██████████████████▏ 7.7 KB                         \u001b[K\n",
      "pulling a70ff7e570d9: 100% ▕██████████████████▏ 6.0 KB                         \u001b[K\n",
      "pulling 56bb8bd477a5: 100% ▕██████████████████▏   96 B                         \u001b[K\n",
      "pulling 34bb5ab01051: 100% ▕██████████████████▏  561 B                         \u001b[K\n",
      "verifying sha256 digest \u001b[K\n",
      "writing manifest \u001b[K\n",
      "success \u001b[K\u001b[?25h\u001b[?2026l\n"
     ]
    }
   ],
   "source": [
    "# make sure the model is loaded\n",
    "!ollama pull llama3.2"
   ]
  },
  {
   "cell_type": "code",
   "execution_count": 9,
   "id": "1aee8a4f-95f1-4985-a776-7d4cb746d528",
   "metadata": {},
   "outputs": [
    {
     "name": "stdout",
     "output_type": "stream",
     "text": [
      "Generative AI has numerous business applications across various industries, including:\n",
      "\n",
      "1. **Content Creation**: Generative AI can generate high-quality content such as blog posts, social media posts, product descriptions, and even entire articles. This can save time and resources for content creation teams.\n",
      "2. **Marketing Automation**: Generative AI can be used to create personalized marketing campaigns, automate email marketing, and generate lead magnets. It can also help with customer segmentation and personalization.\n",
      "3. **Virtual Assistants**: Generative AI-powered virtual assistants can help businesses manage tasks such as scheduling appointments, sending emails, and making phone calls.\n",
      "4. **Design and Visualization**: Generative AI can be used to create 2D and 3D designs, generate prototypes, and visualize complex concepts. This is particularly useful for industries such as architecture, product design, and engineering.\n",
      "5. **Sales Forecasting**: Generative AI can analyze historical sales data and predict future sales patterns, helping businesses make more informed decisions about inventory management, pricing, and marketing.\n",
      "6. **Risk Management**: Generative AI can be used to identify potential risks and vulnerabilities in financial transactions, supply chains, and other business processes.\n",
      "7. **Language Translation**: Generative AI-powered translation tools can help businesses communicate with customers and clients in different languages.\n",
      "8. **Chatbots**: Generative AI can be used to create more sophisticated chatbots that can understand natural language, respond to customer queries, and even provide customer support.\n",
      "9. **Product Development**: Generative AI can be used to design new products, generate product recommendations, and predict customer preferences.\n",
      "10. **Financial Analysis**: Generative AI can help analyze financial data, identify trends, and make predictions about future market movements.\n",
      "\n",
      "Some specific business applications of Generative AI include:\n",
      "\n",
      "* **Personalized Product Recommendations**: Generative AI can be used to create personalized product recommendations based on customer behavior, preferences, and demographics.\n",
      "* **Automated Customer Service**: Generative AI-powered chatbots can help businesses provide 24/7 customer support, answering common queries and routing complex issues to human representatives.\n",
      "* **Predictive Maintenance**: Generative AI can be used to analyze equipment maintenance data and predict when repairs are likely needed, helping businesses reduce downtime and improve efficiency.\n",
      "\n",
      "Overall, the business applications of Generative AI are vast and varied, with potential benefits including increased productivity, improved customer experience, and more informed decision-making.\n"
     ]
    }
   ],
   "source": [
    "response = requests.post(OLLAMA_API, json=payload, headers=HEADERS)\n",
    "print(response.json()[\"message\"][\"content\"])"
   ]
  },
  {
   "cell_type": "markdown",
   "id": "0fa096a7-55ce-440f-8859-65efd695ba0e",
   "metadata": {},
   "source": [
    "## we can also do this by calling ollama"
   ]
  },
  {
   "cell_type": "code",
   "execution_count": 12,
   "id": "a8a2dab2-9d57-465c-948a-e810185113cb",
   "metadata": {},
   "outputs": [
    {
     "name": "stdout",
     "output_type": "stream",
     "text": [
      "Generative AI (Artificial Intelligence) has numerous business applications across various industries. Here are some examples:\n",
      "\n",
      "1. **Content Creation**: Generative AI can be used to generate high-quality content such as articles, social media posts, product descriptions, and even entire books. This can save time and resources for businesses looking to produce large amounts of content quickly.\n",
      "2. **Marketing Automation**: Generative AI-powered marketing automation tools can help personalize customer experiences, create targeted ads, and optimize email campaigns based on user behavior and preferences.\n",
      "3. **Product Design**: Generative AI can be used to design new products, such as furniture, architecture, or even entire cities. This can reduce the time and cost associated with traditional product design processes.\n",
      "4. **Image and Video Generation**: Generative AI can generate high-quality images and videos for various business applications, including advertising, social media, and e-learning platforms.\n",
      "5. **Chatbots and Virtual Assistants**: Generative AI-powered chatbots and virtual assistants can provide 24/7 customer support, answer frequently asked questions, and even help with transactions.\n",
      "6. **Predictive Analytics**: Generative AI can be used to analyze large amounts of data and predict trends, patterns, and anomalies in business operations. This can help businesses make more informed decisions.\n",
      "7. **Personalization**: Generative AI can help personalize customer experiences by analyzing user behavior and preferences, and providing tailored recommendations for products or services.\n",
      "8. **Automated Translations**: Generative AI-powered translation tools can help automate the translation of large amounts of text, reducing the need for human translators.\n",
      "9. **Creative Writing**: Generative AI can be used to generate creative writing such as poetry, stories, or even entire scripts for films and TV shows.\n",
      "10. **Supply Chain Optimization**: Generative AI can help optimize supply chain operations by analyzing data on demand patterns, inventory levels, and shipping routes.\n",
      "\n",
      "Some specific business applications of Generative AI include:\n",
      "\n",
      "* **Autodesk's Generative Design Tool**: Allows users to create complex designs and structures using generative algorithms.\n",
      "* **Google's AutoML**: Enables users to build custom machine learning models without requiring extensive expertise in machine learning.\n",
      "* **Amazon's Alexa**: Uses generative AI to power its conversational interface and provide personalized customer experiences.\n",
      "\n",
      "These are just a few examples of the many business applications of Generative AI. As the technology continues to evolve, we can expect to see even more innovative uses across various industries.\n"
     ]
    }
   ],
   "source": [
    "import ollama\n",
    "\n",
    "response = ollama.chat(model=MODEL, messages=messages)\n",
    "print(response[\"message\"][\"content\"])"
   ]
  }
 ],
 "metadata": {
  "kernelspec": {
   "display_name": "Python (llms)",
   "language": "python",
   "name": "myenv"
  },
  "language_info": {
   "codemirror_mode": {
    "name": "ipython",
    "version": 3
   },
   "file_extension": ".py",
   "mimetype": "text/x-python",
   "name": "python",
   "nbconvert_exporter": "python",
   "pygments_lexer": "ipython3",
   "version": "3.11.13"
  }
 },
 "nbformat": 4,
 "nbformat_minor": 5
}
