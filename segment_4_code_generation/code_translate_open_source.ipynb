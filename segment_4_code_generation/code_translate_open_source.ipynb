{
 "cells": [
  {
   "cell_type": "code",
   "execution_count": 1,
   "id": "f966b4b3",
   "metadata": {},
   "outputs": [],
   "source": [
    "from huggingface_hub import login, InferenceClient\n",
    "from transformers import AutoTokenizer"
   ]
  },
  {
   "cell_type": "code",
   "execution_count": 2,
   "id": "d5f872c5",
   "metadata": {},
   "outputs": [],
   "source": [
    "import os\n",
    "import sys\n",
    "import json\n",
    "from dotenv import load_dotenv\n",
    "from openai import OpenAI\n",
    "import google.generativeai\n",
    "from anthropic import Anthropic\n",
    "import gradio as gr\n",
    "import subprocess\n",
    "from IPython.display import Markdown, display, update_display\n",
    "from huggingface_hub import login"
   ]
  },
  {
   "cell_type": "code",
   "execution_count": 3,
   "id": "2fd52562",
   "metadata": {},
   "outputs": [
    {
     "name": "stderr",
     "output_type": "stream",
     "text": [
      "Note: Environment variable`HF_TOKEN` is set and is the current active token independently from the token you've just configured.\n"
     ]
    }
   ],
   "source": [
    "HF_TOKEN = os.getenv(\"HF_TOKEN\")\n",
    "login(HF_TOKEN, add_to_git_credential=True)"
   ]
  },
  {
   "cell_type": "code",
   "execution_count": 5,
   "id": "9042cf87",
   "metadata": {},
   "outputs": [],
   "source": [
    "code_qwen = \"Qwen/CodeQwen1.5-7B-Chat\"\n",
    "code_qwen_endpoint = \"https://abh36oub208wpbqp.us-east4.gcp.endpoints.huggingface.cloud\""
   ]
  },
  {
   "cell_type": "code",
   "execution_count": 6,
   "id": "71d944e4",
   "metadata": {},
   "outputs": [],
   "source": [
    "## System prompt\n",
    "system_prompt =\"You are a very helpful assistant that can reimplement python codes into high performing C++ for google colab\"\n",
    "system_prompt+=\"You are to provide only C++ code. use comments appropriately and do not provide any explanation other than comments.\"\n",
    "system_prompt+=\"The C++ version needs to reproduce the exact same output that the python code does. the execution time for the C++ should be the fastest\"\n",
    "\n",
    "def get_user_prompt(python_code):\n",
    "  user_prompt=\"rewrite the python code in C++ with the fastest possible execution. the C++ should have identical outcomes like the python in the least time.\"\n",
    "  user_prompt+=\"respond only in C++ code. dont explain any bit other than the comments.\"\n",
    "  user_prompt+=\"pay attention to the data types. Make sure there is no int overflow. Also make sure to include all the necessary libraries for C++ like iomanip.\"\n",
    "  user_prompt+=f\"The following one is the python code that you need to convert into C++: {python_code}\"\n",
    "  return user_prompt\n",
    "\n",
    "def get_messages(python_code):\n",
    "  return [\n",
    "      {\"role\": \"system\", \"content\": system_prompt},\n",
    "      {\"role\": \"user\", \"content\": get_user_prompt(python_code)}\n",
    "  ]"
   ]
  },
  {
   "cell_type": "code",
   "execution_count": 7,
   "id": "474e57ed",
   "metadata": {},
   "outputs": [],
   "source": [
    "pi = \"\"\"\n",
    "import time\n",
    "\n",
    "def calculate(iterations, param1, param2):\n",
    "    result = 1.0\n",
    "    for i in range(1, iterations+1):\n",
    "        j = i * param1 - param2\n",
    "        result -= (1/j)\n",
    "        j = i * param1 + param2\n",
    "        result += (1/j)\n",
    "    return result\n",
    "\n",
    "start_time = time.time()\n",
    "result = calculate(100_000_000, 4, 1) * 4\n",
    "end_time = time.time()\n",
    "\n",
    "print(f\"Result: {result:.12f}\")\n",
    "print(f\"Execution Time: {(end_time - start_time):.6f} seconds\")\n",
    "\"\"\""
   ]
  },
  {
   "cell_type": "code",
   "execution_count": 24,
   "id": "5b0e6c9b",
   "metadata": {},
   "outputs": [],
   "source": [
    "python_hard = \"\"\"# Be careful to support large number sizes\n",
    "\n",
    "def lcg(seed, a=1664525, c=1013904223, m=2**32):\n",
    "    value = seed\n",
    "    while True:\n",
    "        value = (a * value + c) % m\n",
    "        yield value\n",
    "\n",
    "def max_subarray_sum(n, seed, min_val, max_val):\n",
    "    lcg_gen = lcg(seed)\n",
    "    random_numbers = [next(lcg_gen) % (max_val - min_val + 1) + min_val for _ in range(n)]\n",
    "    max_sum = float('-inf')\n",
    "    for i in range(n):\n",
    "        current_sum = 0\n",
    "        for j in range(i, n):\n",
    "            current_sum += random_numbers[j]\n",
    "            if current_sum > max_sum:\n",
    "                max_sum = current_sum\n",
    "    return max_sum\n",
    "\n",
    "def total_max_subarray_sum(n, initial_seed, min_val, max_val):\n",
    "    total_sum = 0\n",
    "    lcg_gen = lcg(initial_seed)\n",
    "    for _ in range(20):\n",
    "        seed = next(lcg_gen)\n",
    "        total_sum += max_subarray_sum(n, seed, min_val, max_val)\n",
    "    return total_sum\n",
    "\n",
    "# Parameters\n",
    "n = 10000         # Number of random numbers\n",
    "initial_seed = 42 # Initial seed for the LCG\n",
    "min_val = -10     # Minimum value of random numbers\n",
    "max_val = 10      # Maximum value of random numbers\n",
    "\n",
    "# Timing the function\n",
    "import time\n",
    "start_time = time.time()\n",
    "result = total_max_subarray_sum(n, initial_seed, min_val, max_val)\n",
    "end_time = time.time()\n",
    "\n",
    "print(\"Total Maximum Subarray Sum (20 runs):\", result)\n",
    "print(\"Execution Time: {:.6f} seconds\".format(end_time - start_time))\n",
    "\"\"\""
   ]
  },
  {
   "cell_type": "code",
   "execution_count": 8,
   "id": "c32adfac",
   "metadata": {},
   "outputs": [
    {
     "data": {
      "application/vnd.jupyter.widget-view+json": {
       "model_id": "cfff6f8703504c9a967bdccb9dad9036",
       "version_major": 2,
       "version_minor": 0
      },
      "text/plain": [
       "tokenizer_config.json:   0%|          | 0.00/972 [00:00<?, ?B/s]"
      ]
     },
     "metadata": {},
     "output_type": "display_data"
    },
    {
     "data": {
      "application/vnd.jupyter.widget-view+json": {
       "model_id": "1b1dcd7a4a3d4733baede74eee1996fc",
       "version_major": 2,
       "version_minor": 0
      },
      "text/plain": [
       "tokenizer.json: 0.00B [00:00, ?B/s]"
      ]
     },
     "metadata": {},
     "output_type": "display_data"
    },
    {
     "data": {
      "application/vnd.jupyter.widget-view+json": {
       "model_id": "18682526c82f4d0b806ecfcc82c29a8e",
       "version_major": 2,
       "version_minor": 0
      },
      "text/plain": [
       "tokenizer.model:   0%|          | 0.00/1.42M [00:00<?, ?B/s]"
      ]
     },
     "metadata": {},
     "output_type": "display_data"
    }
   ],
   "source": [
    "tokenizer = AutoTokenizer.from_pretrained(code_qwen)\n",
    "messages = get_messages(pi)\n",
    "text = tokenizer.apply_chat_template(\n",
    "    messages,\n",
    "    tokenize=False,\n",
    "    add_generation_prompt=True\n",
    ")"
   ]
  },
  {
   "cell_type": "code",
   "execution_count": 10,
   "id": "5db603c1",
   "metadata": {},
   "outputs": [
    {
     "name": "stdout",
     "output_type": "stream",
     "text": [
      "[{'role': 'system', 'content': 'You are a very helpful assistant that can reimplement python codes into high performing C++ for google colabYou are to provide only C++ code. use comments appropriately and do not provide any explanation other than comments.The C++ version needs to reproduce the exact same output that the python code does. the execution time for the C++ should be the fastest'}, {'role': 'user', 'content': 'rewrite the python code in C++ with the fastest possible execution. the C++ should have identical outcomes like the python in the least time.respond only in C++ code. dont explain any bit other than the comments.pay attention to the data types. Make sure there is no int overflow. Also make sure to include all the necessary libraries for C++ like iomanip.The following one is the python code that you need to convert into C++: \\nimport time\\n\\ndef calculate(iterations, param1, param2):\\n    result = 1.0\\n    for i in range(1, iterations+1):\\n        j = i * param1 - param2\\n        result -= (1/j)\\n        j = i * param1 + param2\\n        result += (1/j)\\n    return result\\n\\nstart_time = time.time()\\nresult = calculate(100_000_000, 4, 1) * 4\\nend_time = time.time()\\n\\nprint(f\"Result: {result:.12f}\")\\nprint(f\"Execution Time: {(end_time - start_time):.6f} seconds\")\\n'}]\n"
     ]
    }
   ],
   "source": [
    "print(messages)"
   ]
  },
  {
   "cell_type": "code",
   "execution_count": 11,
   "id": "00d30902",
   "metadata": {},
   "outputs": [
    {
     "name": "stdout",
     "output_type": "stream",
     "text": [
      "<|im_start|>system\n",
      "You are a very helpful assistant that can reimplement python codes into high performing C++ for google colabYou are to provide only C++ code. use comments appropriately and do not provide any explanation other than comments.The C++ version needs to reproduce the exact same output that the python code does. the execution time for the C++ should be the fastest<|im_end|>\n",
      "<|im_start|>user\n",
      "rewrite the python code in C++ with the fastest possible execution. the C++ should have identical outcomes like the python in the least time.respond only in C++ code. dont explain any bit other than the comments.pay attention to the data types. Make sure there is no int overflow. Also make sure to include all the necessary libraries for C++ like iomanip.The following one is the python code that you need to convert into C++: \n",
      "import time\n",
      "\n",
      "def calculate(iterations, param1, param2):\n",
      "    result = 1.0\n",
      "    for i in range(1, iterations+1):\n",
      "        j = i * param1 - param2\n",
      "        result -= (1/j)\n",
      "        j = i * param1 + param2\n",
      "        result += (1/j)\n",
      "    return result\n",
      "\n",
      "start_time = time.time()\n",
      "result = calculate(100_000_000, 4, 1) * 4\n",
      "end_time = time.time()\n",
      "\n",
      "print(f\"Result: {result:.12f}\")\n",
      "print(f\"Execution Time: {(end_time - start_time):.6f} seconds\")\n",
      "<|im_end|>\n",
      "<|im_start|>assistant\n",
      "\n"
     ]
    }
   ],
   "source": [
    "print(text)"
   ]
  },
  {
   "cell_type": "code",
   "execution_count": 9,
   "id": "cb8af070",
   "metadata": {},
   "outputs": [
    {
     "name": "stdout",
     "output_type": "stream",
     "text": [
      "Here is the C++ version of the Python code:\n",
      "\n",
      "```cpp\n",
      "#include <iostream>\n",
      "#include <iomanip>\n",
      "#include <chrono>\n",
      "\n",
      "double calculate(int iterations, int param1, int param2) {\n",
      "    double result = 1.0;\n",
      "    for (int i = 1; i <= iterations; ++i) {\n",
      "        int j = i * param1 - param2;\n",
      "        result -= 1.0 / j;\n",
      "        j = i * param1 + param2;\n",
      "        result += 1.0 / j;\n",
      "    }\n",
      "    return result;\n",
      "}\n",
      "\n",
      "int main() {\n",
      "    auto start_time = std::chrono::high_resolution_clock::now();\n",
      "    double result = calculate(100000000, 4, 1) * 4;\n",
      "    auto end_time = std::chrono::high_resolution_clock::now();\n",
      "\n",
      "    std::cout << \"Result: \" << std::fixed << std::setprecision(12) << result << std::endl;\n",
      "    std::cout << \"Execution Time: \" << std::chrono::duration<double>(end_time - start_time).count() << \" seconds\" << std::endl;\n",
      "\n",
      "    return 0;\n",
      "}\n",
      "```\n",
      "\n",
      "This C++ code does the same thing as the Python code. It calculates the result of the function `calculate` and prints it out along with the execution time. The `calculate` function is implemented in a similar way to the Python code, but it uses `double` instead of `float` to avoid any potential overflow issues. The `main` function uses `std::chrono` to measure the execution time of the `calculate` function. The `std::fixed` and `std::setprecision` manipulators are used to print the result with 12 decimal places.<|im_end|>"
     ]
    }
   ],
   "source": [
    "client = InferenceClient(\n",
    "    code_qwen_endpoint,\n",
    "    token=HF_TOKEN\n",
    ")\n",
    "\n",
    "stream = client.text_generation(\n",
    "    text,\n",
    "    stream=True,\n",
    "    details=True,\n",
    "    max_new_tokens=3000\n",
    ")\n",
    "\n",
    "for r in stream:\n",
    "    print(r.token.text, end=\"\")"
   ]
  },
  {
   "cell_type": "code",
   "execution_count": 13,
   "id": "bf4defcf",
   "metadata": {},
   "outputs": [],
   "source": [
    "OPENAI_API_KEY = os.getenv(\"OPENAI_API_KEY\")\n",
    "CLAUDE_API_KEY = os.getenv(\"ANTHROPIC_API_KEY\")"
   ]
  },
  {
   "cell_type": "code",
   "execution_count": 14,
   "id": "124bf6ba",
   "metadata": {},
   "outputs": [],
   "source": [
    "openai_client = OpenAI(api_key=OPENAI_API_KEY)\n",
    "claude_client = Anthropic(api_key=CLAUDE_API_KEY)"
   ]
  },
  {
   "cell_type": "code",
   "execution_count": 16,
   "id": "d870cfff",
   "metadata": {},
   "outputs": [],
   "source": [
    "OPENAI_MODEL = 'gpt-4o'\n",
    "CLAUDE_MODEL = 'claude-sonnet-4-0'"
   ]
  },
  {
   "cell_type": "code",
   "execution_count": 18,
   "id": "549c7dcf",
   "metadata": {},
   "outputs": [],
   "source": [
    "def stream_gpt(python_code):\n",
    "  stream = openai_client.chat.completions.create(\n",
    "      model = OPENAI_MODEL,\n",
    "      messages = get_messages(python_code),\n",
    "      stream = True\n",
    "  )\n",
    "  reply =\"\"\n",
    "  for chunk in stream:\n",
    "    piece = chunk.choices[0].delta.content or \"\"\n",
    "    reply+=piece\n",
    "    yield reply.replace(\"```cpp\\n\",\"\").replace(\"```\", \"\")\n",
    "\n",
    "\n",
    "def stream_claude(python_code):\n",
    "  reply = claude_client.messages.stream(\n",
    "      model = CLAUDE_MODEL,\n",
    "      max_tokens=2000,\n",
    "      system=system_prompt,\n",
    "      messages=[{\"role\": \"user\", \"content\": get_user_prompt(python_code)}]\n",
    "  )\n",
    "  response =\"\"\n",
    "  with reply as stream:\n",
    "    for text in stream.text_stream:\n",
    "      response+=text\n",
    "      yield response.replace(\"```cpp\\n\",\"\").replace(\"```\", \"\")"
   ]
  },
  {
   "cell_type": "code",
   "execution_count": 19,
   "id": "b9a1d0f7",
   "metadata": {},
   "outputs": [],
   "source": [
    "def stream_qwen(python_code):\n",
    "    tokeninzer = AutoTokenizer.from_pretrained(code_qwen)\n",
    "    messages = get_messages(python_code)\n",
    "    text = tokeninzer.apply_chat_template(\n",
    "        messages,\n",
    "        tokenize=False,\n",
    "        add_generation_prompt=True,\n",
    "    )\n",
    "    client = InferenceClient(\n",
    "        code_qwen_endpoint,\n",
    "        token=HF_TOKEN\n",
    "    )\n",
    "    stream = client.text_generation(\n",
    "        text,\n",
    "        stream=True,\n",
    "        details=True,\n",
    "        max_new_tokens=3000\n",
    "    )\n",
    "    result = \"\"\n",
    "    for r in stream:\n",
    "        result+=r.token.text or \"\"\n",
    "        yield result"
   ]
  },
  {
   "cell_type": "code",
   "execution_count": 20,
   "id": "71e49133",
   "metadata": {},
   "outputs": [],
   "source": [
    "def optimize(python_code, model):\n",
    "    if model == \"GPT\":\n",
    "        result = stream_gpt(python_code)\n",
    "    elif model == \"CLAUDE\":\n",
    "        result = stream_claude(python_code)\n",
    "    elif model == \"QWEN\":\n",
    "        result = stream_qwen(python_code)\n",
    "    else:\n",
    "        raise ValueError(\"Unknown model\")\n",
    "    \n",
    "    for r in result:\n",
    "        yield r"
   ]
  },
  {
   "cell_type": "code",
   "execution_count": 21,
   "id": "45ffd1d4",
   "metadata": {},
   "outputs": [],
   "source": [
    "def execute_python(python_code):\n",
    "  try:\n",
    "    result = subprocess.run(['python', '-c', python_code], capture_output=True, text=True, check=True)\n",
    "    return result.stdout\n",
    "  except subprocess.CalledProcessError as e:\n",
    "    return f\"Error:\\n{e.stderr}\""
   ]
  },
  {
   "cell_type": "code",
   "execution_count": 22,
   "id": "fa13ee1a",
   "metadata": {},
   "outputs": [],
   "source": [
    "def execute_cpp(cpp_code):\n",
    "  try:\n",
    "    with open(\"temp.cpp\", \"w\") as f:\n",
    "      f.write(cpp_code)\n",
    "\n",
    "    compile_result = subprocess.run(['g++', \"temp.cpp\", '-o', 'temp_cpp_executable'], capture_output=True, text=True, check=True)\n",
    "    if compile_result.stderr:\n",
    "      return f\"Compilation Errors:\\n{compile_result.stderr}\"\n",
    "\n",
    "    run_result = subprocess.run(['./temp_cpp_executable'], capture_output=True, text=True, check=True)\n",
    "    return run_result.stdout\n",
    "  except subprocess.CalledProcessError as e:\n",
    "    return f\"Execution Error:\\n{e.stderr}\"\n",
    "  except FileNotFoundError:\n",
    "    return \"Error: g++ compiler not found. Please ensure it is installed.\""
   ]
  },
  {
   "cell_type": "code",
   "execution_count": 25,
   "id": "94733608",
   "metadata": {},
   "outputs": [
    {
     "name": "stdout",
     "output_type": "stream",
     "text": [
      "* Running on local URL:  http://127.0.0.1:7861\n",
      "* To create a public link, set `share=True` in `launch()`.\n"
     ]
    },
    {
     "data": {
      "text/html": [
       "<div><iframe src=\"http://127.0.0.1:7861/\" width=\"100%\" height=\"500\" allow=\"autoplay; camera; microphone; clipboard-read; clipboard-write;\" frameborder=\"0\" allowfullscreen></iframe></div>"
      ],
      "text/plain": [
       "<IPython.core.display.HTML object>"
      ]
     },
     "metadata": {},
     "output_type": "display_data"
    },
    {
     "data": {
      "text/plain": []
     },
     "execution_count": 25,
     "metadata": {},
     "output_type": "execute_result"
    }
   ],
   "source": [
    "with gr.Blocks() as ui:\n",
    "    gr.Markdown(\"## Convert Code from python to c++\")\n",
    "    with gr.Row():\n",
    "        python = gr.Textbox(label=\"Python Code:\", value=python_hard, lines=15)\n",
    "        cpp = gr.Textbox(label=\"C++ code\", lines=15)\n",
    "    \n",
    "    with gr.Row():\n",
    "        model = gr.Dropdown([\"GPT\", \"CLAUDE\", \"QWEN\"], label=\"Select a Model\", value=\"GPT\")\n",
    "    \n",
    "    with gr.Row():\n",
    "        convert = gr.Button(\"Convert Code\")\n",
    "    \n",
    "    with gr.Row():\n",
    "        python_run = gr.Button(\"Run Python\")\n",
    "        cpp_run = gr.Button(\"Run C++\")\n",
    "    with gr.Row():\n",
    "        python_out = gr.TextArea(label=\"Python Result: \", elem_classes=[\"python\"])\n",
    "        cpp_out = gr.TextArea(label=\"C++ Result: \", elem_classes=[\"cpp\"])\n",
    "    \n",
    "    convert.click(optimize, inputs=[python,model], outputs=[cpp])\n",
    "    python_run.click(execute_python, inputs=[python], outputs=[python_out])\n",
    "    cpp_run.click(execute_cpp, inputs=[cpp], outputs=[cpp_out])\n",
    "\n",
    "ui.launch(inbrowser=True)"
   ]
  }
 ],
 "metadata": {
  "kernelspec": {
   "display_name": "llms",
   "language": "python",
   "name": "python3"
  },
  "language_info": {
   "codemirror_mode": {
    "name": "ipython",
    "version": 3
   },
   "file_extension": ".py",
   "mimetype": "text/x-python",
   "name": "python",
   "nbconvert_exporter": "python",
   "pygments_lexer": "ipython3",
   "version": "3.11.13"
  }
 },
 "nbformat": 4,
 "nbformat_minor": 5
}
