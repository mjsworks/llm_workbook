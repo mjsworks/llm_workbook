{
 "cells": [
  {
   "cell_type": "markdown",
   "id": "d7814d28",
   "metadata": {},
   "source": [
    "### what are tools?\n",
    "it allows the models to connect with the external functions.\n",
    "\n",
    "### Usecases\n",
    "1. Fetch extra data to add knowledge\n",
    "2. take an action like a meeting\n",
    "3. perform calculation\n",
    "4. modify the UI. "
   ]
  },
  {
   "cell_type": "markdown",
   "id": "72f493ef",
   "metadata": {},
   "source": [
    "## Project - Airline AI Assistant"
   ]
  },
  {
   "cell_type": "code",
   "execution_count": 1,
   "id": "bbc58ee1",
   "metadata": {},
   "outputs": [],
   "source": [
    "# imports\n",
    "import os\n",
    "from dotenv import load_dotenv\n",
    "import openai\n",
    "import gradio as gr\n",
    "import json"
   ]
  },
  {
   "cell_type": "code",
   "execution_count": 2,
   "id": "689f41bb",
   "metadata": {},
   "outputs": [],
   "source": [
    "## initialization\n",
    "load_dotenv()\n",
    "os.environ['OPENAI_API_KEY']=os.getenv('OPENAI_API_KEY')\n",
    "MODEL = 'gpt-4o-mini'\n",
    "openai_client = openai.OpenAI()"
   ]
  },
  {
   "cell_type": "code",
   "execution_count": 3,
   "id": "56021d5a-354a-4b27-9bca-c70ee93e034e",
   "metadata": {},
   "outputs": [],
   "source": [
    "## define the system prompt\n",
    "system_prompt=\"\"\"\n",
    "You are a helpful assistant for an Airline called FlightAI.\n",
    "Give short, concise, and  answers. No more than 1 senetence ever.\n",
    "Always be accurate. If you are unsure about the answer. Be straightforward about that\n",
    "\"\"\""
   ]
  },
  {
   "cell_type": "code",
   "execution_count": 4,
   "id": "a9ce2ee3-de04-43fd-b86c-815833e13cd1",
   "metadata": {},
   "outputs": [],
   "source": [
    "def chat(message, history):\n",
    "    messages = [\n",
    "        {\"role\":\"system\", \"content\": system_prompt}\n",
    "    ]\n",
    "    for user_message, assistant_message in history:\n",
    "        messages.append({\"role\": \"user\", \"content\":user_message})\n",
    "        messages.append({\"role\": \"assistant\", \"content\": assistant_message})\n",
    "    messages.append({\"role\":\"user\", \"content\": message})\n",
    "\n",
    "    result = openai_client.chat.completions.create(\n",
    "        model = MODEL,\n",
    "        messages = messages,\n",
    "        stream = True\n",
    "    )\n",
    "    response = \"\"\n",
    "    for chunk in result:\n",
    "        response+=chunk.choices[0].delta.content or \"\"\n",
    "        yield response"
   ]
  },
  {
   "cell_type": "code",
   "execution_count": 5,
   "id": "e22709cc-f3bf-4399-8a09-202915a677b2",
   "metadata": {},
   "outputs": [
    {
     "name": "stderr",
     "output_type": "stream",
     "text": [
      "/Users/protikmostafa/miniconda3/envs/llms/lib/python3.11/site-packages/gradio/chat_interface.py:345: UserWarning: The 'tuples' format for chatbot messages is deprecated and will be removed in a future version of Gradio. Please set type='messages' instead, which uses openai-style 'role' and 'content' keys.\n",
      "  self.chatbot = Chatbot(\n"
     ]
    },
    {
     "name": "stdout",
     "output_type": "stream",
     "text": [
      "* Running on local URL:  http://127.0.0.1:7864\n",
      "* To create a public link, set `share=True` in `launch()`.\n"
     ]
    },
    {
     "data": {
      "text/html": [
       "<div><iframe src=\"http://127.0.0.1:7864/\" width=\"100%\" height=\"500\" allow=\"autoplay; camera; microphone; clipboard-read; clipboard-write;\" frameborder=\"0\" allowfullscreen></iframe></div>"
      ],
      "text/plain": [
       "<IPython.core.display.HTML object>"
      ]
     },
     "metadata": {},
     "output_type": "display_data"
    },
    {
     "data": {
      "text/plain": []
     },
     "execution_count": 5,
     "metadata": {},
     "output_type": "execute_result"
    }
   ],
   "source": [
    "gr.ChatInterface(\n",
    "    fn=chat,\n",
    "    title=\"Airline Assistant\"\n",
    ").launch()"
   ]
  },
  {
   "cell_type": "code",
   "execution_count": 6,
   "id": "6ba3a205-3e2a-4ffb-ae85-139ae1f343f1",
   "metadata": {},
   "outputs": [],
   "source": [
    "## making a very generic function\n",
    "ticket_prices = {\n",
    "    \"london\": \"$799\",\n",
    "    \"paris\": \"$899\",\n",
    "    \"tokyo\": \"$1400\",\n",
    "    \"berlin\": \"$499\"\n",
    "}\n",
    "\n",
    "def get_ticket_price(city):\n",
    "    print(f\"tool get_ticket_price called for city {city}\")\n",
    "    city = city.lower()\n",
    "    return ticket_prices.get(city, \"unknown\")"
   ]
  },
  {
   "cell_type": "code",
   "execution_count": 7,
   "id": "9e8d9b67-7ba5-470e-99dc-6915a8b644ee",
   "metadata": {},
   "outputs": [
    {
     "name": "stdout",
     "output_type": "stream",
     "text": [
      "tool get_ticket_price called for city berlin\n"
     ]
    },
    {
     "data": {
      "text/plain": [
       "'$499'"
      ]
     },
     "execution_count": 7,
     "metadata": {},
     "output_type": "execute_result"
    }
   ],
   "source": [
    "get_ticket_price(\"berlin\")"
   ]
  },
  {
   "cell_type": "code",
   "execution_count": 8,
   "id": "5f506b5f-75d0-45e7-aecd-190842ca8a5a",
   "metadata": {},
   "outputs": [],
   "source": [
    "## there is a particular dictionary structure that i srequired to describe our function as a tool\n",
    "\n",
    "price_function = {\n",
    "    \"name\": \"get_ticket_price\",\n",
    "    \"description\": \"Get the price of a ticket to the destination city. Call this function whenever you need to know the ticket price, for example when a customer asks 'How much is a ticket to the city'\",\n",
    "    \"parameters\":{\n",
    "        \"type\": \"object\",\n",
    "        \"properties\":{\n",
    "            \"city\":{\n",
    "                \"type\": \"string\",\n",
    "                \"description\": \"The city the customer is travelling to\",\n",
    "            },\n",
    "        },\n",
    "    },\n",
    "    \"required\": [\"destination_city\"],\n",
    "    \"additionalProperties\": False\n",
    "}\n",
    "\n",
    "\n",
    "## we need to include this in a list of tools\n",
    "tools = [\n",
    "    {\"type\":\"function\", \"function\": price_function}\n",
    "]"
   ]
  },
  {
   "cell_type": "code",
   "execution_count": 9,
   "id": "8b17dacb-816e-4033-97cc-6ba47cedbe61",
   "metadata": {},
   "outputs": [],
   "source": [
    "def chat(message, history):\n",
    "    messages = [\n",
    "        {\"role\":\"system\", \"content\": system_prompt}\n",
    "    ]\n",
    "    # old system\n",
    "    # for human, assistant in history:\n",
    "    #     messages.append({\"role\": \"user\", \"content\": human})\n",
    "    #     messages.append({\"role\": \"assistant\", \"content\": assistant})\n",
    "    for msg in history:\n",
    "        messages.append(msg)\n",
    "    messages.append({\"role\":\"user\", \"content\": message})\n",
    "\n",
    "    result = openai_client.chat.completions.create(\n",
    "        model = MODEL,\n",
    "        messages = messages,\n",
    "        tools = tools\n",
    "    )\n",
    "    ## in the next bit, we get the response normally with the choices\n",
    "    ## in here, we will see that OpenAI will stop and like \"I dont have the answer so I want to stop and call tools\"\n",
    "\n",
    "    if result.choices[0].finish_reason==\"tool_calls\":\n",
    "        ## message is when OpenAI is asking us to call a tool\n",
    "        message = result.choices[0].message\n",
    "        # print(f\"OpenAI collecting message: {message}\")\n",
    "        result,city = handle_tool_call(message)\n",
    "        ## to the messages list of dict, we need to append 2 more rows\n",
    "        ## 1. the message that OpenAI is asking us to use the tool\n",
    "        ## 2. the response that we get from the tool\n",
    "        messages.append(message)\n",
    "        messages.append(result)\n",
    "        result = openai_client.chat.completions.create(\n",
    "            model = MODEL,\n",
    "            messages = messages\n",
    "        )\n",
    "    return result.choices[0].message.content"
   ]
  },
  {
   "cell_type": "code",
   "execution_count": 10,
   "id": "7944a60b-29d7-4e50-b316-bab20dc3fbdc",
   "metadata": {},
   "outputs": [],
   "source": [
    "## now the missing piece from our previous cell: handle_tools_call\n",
    "\n",
    "def handle_tool_call(message):\n",
    "    ## the message came back from OpenAI. we need to unpack to see which tool it did it want to call\n",
    "    # print(f\"message: {message}\")\n",
    "    tool_call = message.tool_calls[0]\n",
    "    # print(f\"tool_call = {tool_call}\")\n",
    "    arguments = json.loads(tool_call.function.arguments)\n",
    "    # print(f\"Arguments: {arguments}\")\n",
    "    city = arguments.get('city')\n",
    "    price = get_ticket_price(city)\n",
    "    result = {\n",
    "        \"role\": \"tool\",\n",
    "        \"content\": json.dumps({\"city\": city, \"price\": price}),\n",
    "        \"tool_call_id\":message.tool_calls[0].id\n",
    "    }\n",
    "    return result, city"
   ]
  },
  {
   "cell_type": "code",
   "execution_count": 11,
   "id": "5c7366b1-6b20-4432-b23c-596b7cf18a07",
   "metadata": {},
   "outputs": [
    {
     "name": "stdout",
     "output_type": "stream",
     "text": [
      "* Running on local URL:  http://127.0.0.1:7865\n",
      "* To create a public link, set `share=True` in `launch()`.\n"
     ]
    },
    {
     "data": {
      "text/html": [
       "<div><iframe src=\"http://127.0.0.1:7865/\" width=\"100%\" height=\"500\" allow=\"autoplay; camera; microphone; clipboard-read; clipboard-write;\" frameborder=\"0\" allowfullscreen></iframe></div>"
      ],
      "text/plain": [
       "<IPython.core.display.HTML object>"
      ]
     },
     "metadata": {},
     "output_type": "display_data"
    },
    {
     "data": {
      "text/plain": []
     },
     "execution_count": 11,
     "metadata": {},
     "output_type": "execute_result"
    },
    {
     "name": "stdout",
     "output_type": "stream",
     "text": [
      "tool get_ticket_price called for city Paris\n",
      "tool get_ticket_price called for city Berlin\n",
      "tool get_ticket_price called for city Bangladesh\n"
     ]
    }
   ],
   "source": [
    "gr.ChatInterface(\n",
    "    fn = chat,\n",
    "    type = \"messages\"\n",
    ").launch()"
   ]
  }
 ],
 "metadata": {
  "kernelspec": {
   "display_name": "Python (llms)",
   "language": "python",
   "name": "myenv"
  },
  "language_info": {
   "codemirror_mode": {
    "name": "ipython",
    "version": 3
   },
   "file_extension": ".py",
   "mimetype": "text/x-python",
   "name": "python",
   "nbconvert_exporter": "python",
   "pygments_lexer": "ipython3",
   "version": "3.11.13"
  }
 },
 "nbformat": 4,
 "nbformat_minor": 5
}
